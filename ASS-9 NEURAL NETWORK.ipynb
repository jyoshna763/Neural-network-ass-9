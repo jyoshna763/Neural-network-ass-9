{
 "cells": [
  {
   "cell_type": "code",
   "execution_count": 1,
   "metadata": {
    "colab": {
     "base_uri": "https://localhost:8080/"
    },
    "id": "-lb6dQveHDgO",
    "outputId": "84d88cec-8b02-4368-8b7a-0090ec078b1e"
   },
   "outputs": [
    {
     "ename": "ModuleNotFoundError",
     "evalue": "No module named 'keras.preprocessing.text'",
     "output_type": "error",
     "traceback": [
      "\u001b[1;31m---------------------------------------------------------------------------\u001b[0m",
      "\u001b[1;31mModuleNotFoundError\u001b[0m                       Traceback (most recent call last)",
      "Cell \u001b[1;32mIn[1], line 2\u001b[0m\n\u001b[0;32m      1\u001b[0m \u001b[38;5;28;01mimport\u001b[39;00m \u001b[38;5;21;01mpandas\u001b[39;00m \u001b[38;5;28;01mas\u001b[39;00m \u001b[38;5;21;01mpd\u001b[39;00m \u001b[38;5;66;03m# data processing, CSV file I/O (e.g. pd.read_csv)\u001b[39;00m\n\u001b[1;32m----> 2\u001b[0m \u001b[38;5;28;01mfrom\u001b[39;00m \u001b[38;5;21;01mkeras\u001b[39;00m\u001b[38;5;21;01m.\u001b[39;00m\u001b[38;5;21;01mpreprocessing\u001b[39;00m\u001b[38;5;21;01m.\u001b[39;00m\u001b[38;5;21;01mtext\u001b[39;00m \u001b[38;5;28;01mimport\u001b[39;00m Tokenizer\n\u001b[0;32m      3\u001b[0m \u001b[38;5;28;01mfrom\u001b[39;00m \u001b[38;5;21;01mtensorflow\u001b[39;00m\u001b[38;5;21;01m.\u001b[39;00m\u001b[38;5;21;01mkeras\u001b[39;00m\u001b[38;5;21;01m.\u001b[39;00m\u001b[38;5;21;01mpreprocessing\u001b[39;00m\u001b[38;5;21;01m.\u001b[39;00m\u001b[38;5;21;01msequence\u001b[39;00m \u001b[38;5;28;01mimport\u001b[39;00m pad_sequences\n\u001b[0;32m      4\u001b[0m \u001b[38;5;28;01mfrom\u001b[39;00m \u001b[38;5;21;01mkeras\u001b[39;00m\u001b[38;5;21;01m.\u001b[39;00m\u001b[38;5;21;01mmodels\u001b[39;00m \u001b[38;5;28;01mimport\u001b[39;00m Sequential\n",
      "\u001b[1;31mModuleNotFoundError\u001b[0m: No module named 'keras.preprocessing.text'"
     ]
    }
   ],
   "source": [
    "import pandas as pd # data processing, CSV file I/O (e.g. pd.read_csv)\n",
    "from keras.preprocessing.text import Tokenizer\n",
    "from tensorflow.keras.preprocessing.sequence import pad_sequences\n",
    "from keras.models import Sequential\n",
    "from keras.layers import Dense, Embedding, LSTM, SpatialDropout1D\n",
    "from matplotlib import pyplot\n",
    "from sklearn.model_selection import train_test_split\n",
    "from tensorflow.keras.utils import to_categorical\n",
    "import re\n",
    "\n",
    "from sklearn.preprocessing import LabelEncoder\n",
    "\n",
    "data = pd.read_csv('Sentiment.csv')\n",
    "# Keeping only the neccessary columns\n",
    "data = data[['text','sentiment']]\n",
    "\n",
    "data['text'] = data['text'].apply(lambda x: x.lower())\n",
    "data['text'] = data['text'].apply((lambda x: re.sub('[^a-zA-z0-9\\s]', '', x)))\n",
    "\n",
    "for idx, row in data.iterrows():\n",
    "    row[0] = row[0].replace('rt', ' ')\n",
    "\n",
    "max_fatures = 2000\n",
    "tokenizer = Tokenizer(num_words=max_fatures, split=' ')\n",
    "tokenizer.fit_on_texts(data['text'].values)\n",
    "X = tokenizer.texts_to_sequences(data['text'].values)\n",
    "\n",
    "X = pad_sequences(X)\n",
    "\n",
    "embed_dim = 128\n",
    "lstm_out = 196\n",
    "def createmodel():\n",
    "    model = Sequential()\n",
    "    model.add(Embedding(max_fatures, embed_dim,input_length = X.shape[1]))\n",
    "    model.add(LSTM(lstm_out, dropout=0.2, recurrent_dropout=0.2))\n",
    "    model.add(Dense(3,activation='softmax'))\n",
    "    model.compile(loss = 'categorical_crossentropy', optimizer='adam',metrics = ['accuracy'])\n",
    "    return model\n",
    "# print(model.summary())\n",
    "\n",
    "labelencoder = LabelEncoder()\n",
    "integer_encoded = labelencoder.fit_transform(data['sentiment'])\n",
    "y = to_categorical(integer_encoded)\n",
    "X_train, X_test, Y_train, Y_test = train_test_split(X,y, test_size = 0.33, random_state = 42)\n",
    "\n",
    "batch_size = 32\n",
    "model = createmodel()\n",
    "model.fit(X_train, Y_train, epochs = 1, batch_size=batch_size, verbose = 2)\n",
    "score,acc = model.evaluate(X_test,Y_test,verbose=2,batch_size=batch_size)\n",
    "print(score)\n",
    "print(acc)\n",
    "print(model.metrics_names)"
   ]
  },
  {
   "cell_type": "code",
   "execution_count": 15,
   "metadata": {
    "colab": {
     "base_uri": "https://localhost:8080/"
    },
    "id": "-yE6ShpGHkYP",
    "outputId": "cad97c02-88a3-40fd-fd73-bd5be30f5cb2"
   },
   "outputs": [
    {
     "name": "stderr",
     "output_type": "stream",
     "text": [
      "/usr/local/lib/python3.10/dist-packages/keras/src/engine/training.py:3079: UserWarning: You are saving your model as an HDF5 file via `model.save()`. This file format is considered legacy. We recommend using instead the native Keras format, e.g. `model.save('my_model.keras')`.\n",
      "  saving_api.save_model(\n"
     ]
    }
   ],
   "source": [
    "model.save('sentiment_model.h5')"
   ]
  },
  {
   "cell_type": "code",
   "execution_count": 17,
   "metadata": {
    "colab": {
     "base_uri": "https://localhost:8080/"
    },
    "id": "k6sKpJS8HrG6",
    "outputId": "8c160cd5-6617-4875-dcb6-ddbb9e350da3"
   },
   "outputs": [
    {
     "name": "stdout",
     "output_type": "stream",
     "text": [
      "1/1 - 0s - 274ms/epoch - 274ms/step\n",
      "Predicted sentiment:  Positive\n",
      "Predicted probabilities:  [0.43323177 0.12365673 0.44311148]\n"
     ]
    }
   ],
   "source": [
    "from keras.models import load_model\n",
    "import numpy as np\n",
    "\n",
    "loaded_model = load_model('sentiment_model.h5')\n",
    "\n",
    "new_text = [\"A lot of good things are happening. We are respected again throughout the world, and that's a great thing.@realDonaldTrump\"]\n",
    "new_text = tokenizer.texts_to_sequences(new_text)\n",
    "new_text = pad_sequences(new_text, maxlen=X.shape[1], dtype='int32', value=0)\n",
    "sentiment_prob = loaded_model.predict(new_text, batch_size=1, verbose=2)[0]\n",
    "\n",
    "sentiment_classes = ['Negative', 'Neutral', 'Positive']\n",
    "sentiment_pred = sentiment_classes[np.argmax(sentiment_prob)]\n",
    "\n",
    "print(\"Predicted sentiment: \", sentiment_pred)\n",
    "print(\"Predicted probabilities: \", sentiment_prob)\n"
   ]
  },
  {
   "cell_type": "code",
   "execution_count": 34,
   "metadata": {
    "colab": {
     "base_uri": "https://localhost:8080/",
     "height": 1000
    },
    "id": "Ff-a4kg6Nab8",
    "outputId": "c8aba1cd-38ab-4944-d20d-787d0299af0b"
   },
   "outputs": [
    {
     "name": "stderr",
     "output_type": "stream",
     "text": [
      "<ipython-input-34-6bec1cffbd5d>:14: DeprecationWarning: KerasClassifier is deprecated, use Sci-Keras (https://github.com/adriangb/scikeras) instead. See https://www.adriangb.com/scikeras/stable/migration.html for help migrating.\n",
      "  model = KerasClassifier(build_fn=create_model, verbose=2)\n"
     ]
    },
    {
     "name": "stdout",
     "output_type": "stream",
     "text": [
      "Fitting 3 folds for each of 27 candidates, totalling 81 fits\n",
      "[CV] END batch_size=32, dropout=0.1, epochs=1, learning_rate=0.001, units=64; total time=   0.0s\n",
      "[CV] END batch_size=32, dropout=0.1, epochs=1, learning_rate=0.001, units=64; total time=   0.0s\n",
      "[CV] END batch_size=32, dropout=0.1, epochs=1, learning_rate=0.001, units=64; total time=   0.0s\n",
      "[CV] END batch_size=32, dropout=0.1, epochs=1, learning_rate=0.001, units=128; total time=   0.0s\n",
      "[CV] END batch_size=32, dropout=0.1, epochs=1, learning_rate=0.001, units=128; total time=   0.0s\n",
      "[CV] END batch_size=32, dropout=0.1, epochs=1, learning_rate=0.001, units=128; total time=   0.0s\n",
      "[CV] END batch_size=32, dropout=0.1, epochs=1, learning_rate=0.001, units=196; total time=   0.0s\n",
      "[CV] END batch_size=32, dropout=0.1, epochs=1, learning_rate=0.001, units=196; total time=   0.0s\n",
      "[CV] END batch_size=32, dropout=0.1, epochs=1, learning_rate=0.001, units=196; total time=   0.0s\n",
      "[CV] END batch_size=32, dropout=0.1, epochs=1, learning_rate=0.01, units=64; total time=   0.0s\n",
      "[CV] END batch_size=32, dropout=0.1, epochs=1, learning_rate=0.01, units=64; total time=   0.0s\n",
      "[CV] END batch_size=32, dropout=0.1, epochs=1, learning_rate=0.01, units=64; total time=   0.0s\n",
      "[CV] END batch_size=32, dropout=0.1, epochs=1, learning_rate=0.01, units=128; total time=   0.0s\n",
      "[CV] END batch_size=32, dropout=0.1, epochs=1, learning_rate=0.01, units=128; total time=   0.0s\n",
      "[CV] END batch_size=32, dropout=0.1, epochs=1, learning_rate=0.01, units=128; total time=   0.0s\n",
      "[CV] END batch_size=32, dropout=0.1, epochs=1, learning_rate=0.01, units=196; total time=   0.0s\n",
      "[CV] END batch_size=32, dropout=0.1, epochs=1, learning_rate=0.01, units=196; total time=   0.0s\n",
      "[CV] END batch_size=32, dropout=0.1, epochs=1, learning_rate=0.01, units=196; total time=   0.0s\n",
      "[CV] END batch_size=32, dropout=0.1, epochs=1, learning_rate=0.1, units=64; total time=   0.0s\n",
      "[CV] END batch_size=32, dropout=0.1, epochs=1, learning_rate=0.1, units=64; total time=   0.0s\n",
      "[CV] END batch_size=32, dropout=0.1, epochs=1, learning_rate=0.1, units=64; total time=   0.0s\n",
      "[CV] END batch_size=32, dropout=0.1, epochs=1, learning_rate=0.1, units=128; total time=   0.0s\n",
      "[CV] END batch_size=32, dropout=0.1, epochs=1, learning_rate=0.1, units=128; total time=   0.0s\n",
      "[CV] END batch_size=32, dropout=0.1, epochs=1, learning_rate=0.1, units=128; total time=   0.0s\n",
      "[CV] END batch_size=32, dropout=0.1, epochs=1, learning_rate=0.1, units=196; total time=   0.0s\n",
      "[CV] END batch_size=32, dropout=0.1, epochs=1, learning_rate=0.1, units=196; total time=   0.0s\n",
      "[CV] END batch_size=32, dropout=0.1, epochs=1, learning_rate=0.1, units=196; total time=   0.0s\n",
      "[CV] END batch_size=32, dropout=0.2, epochs=1, learning_rate=0.001, units=64; total time=   0.0s\n",
      "[CV] END batch_size=32, dropout=0.2, epochs=1, learning_rate=0.001, units=64; total time=   0.0s\n",
      "[CV] END batch_size=32, dropout=0.2, epochs=1, learning_rate=0.001, units=64; total time=   0.0s\n",
      "[CV] END batch_size=32, dropout=0.2, epochs=1, learning_rate=0.001, units=128; total time=   0.0s\n",
      "[CV] END batch_size=32, dropout=0.2, epochs=1, learning_rate=0.001, units=128; total time=   0.0s\n",
      "[CV] END batch_size=32, dropout=0.2, epochs=1, learning_rate=0.001, units=128; total time=   0.0s\n",
      "[CV] END batch_size=32, dropout=0.2, epochs=1, learning_rate=0.001, units=196; total time=   0.0s\n",
      "[CV] END batch_size=32, dropout=0.2, epochs=1, learning_rate=0.001, units=196; total time=   0.0s\n",
      "[CV] END batch_size=32, dropout=0.2, epochs=1, learning_rate=0.001, units=196; total time=   0.0s\n",
      "[CV] END batch_size=32, dropout=0.2, epochs=1, learning_rate=0.01, units=64; total time=   0.0s\n",
      "[CV] END batch_size=32, dropout=0.2, epochs=1, learning_rate=0.01, units=64; total time=   0.0s\n",
      "[CV] END batch_size=32, dropout=0.2, epochs=1, learning_rate=0.01, units=64; total time=   0.0s\n",
      "[CV] END batch_size=32, dropout=0.2, epochs=1, learning_rate=0.01, units=128; total time=   0.0s\n",
      "[CV] END batch_size=32, dropout=0.2, epochs=1, learning_rate=0.01, units=128; total time=   0.0s\n",
      "[CV] END batch_size=32, dropout=0.2, epochs=1, learning_rate=0.01, units=128; total time=   0.0s\n",
      "[CV] END batch_size=32, dropout=0.2, epochs=1, learning_rate=0.01, units=196; total time=   0.0s\n",
      "[CV] END batch_size=32, dropout=0.2, epochs=1, learning_rate=0.01, units=196; total time=   0.0s\n",
      "[CV] END batch_size=32, dropout=0.2, epochs=1, learning_rate=0.01, units=196; total time=   0.0s\n",
      "[CV] END batch_size=32, dropout=0.2, epochs=1, learning_rate=0.1, units=64; total time=   0.0s\n",
      "[CV] END batch_size=32, dropout=0.2, epochs=1, learning_rate=0.1, units=64; total time=   0.0s\n",
      "[CV] END batch_size=32, dropout=0.2, epochs=1, learning_rate=0.1, units=64; total time=   0.0s\n",
      "[CV] END batch_size=32, dropout=0.2, epochs=1, learning_rate=0.1, units=128; total time=   0.0s\n",
      "[CV] END batch_size=32, dropout=0.2, epochs=1, learning_rate=0.1, units=128; total time=   0.0s\n",
      "[CV] END batch_size=32, dropout=0.2, epochs=1, learning_rate=0.1, units=128; total time=   0.0s\n",
      "[CV] END batch_size=32, dropout=0.2, epochs=1, learning_rate=0.1, units=196; total time=   0.0s\n",
      "[CV] END batch_size=32, dropout=0.2, epochs=1, learning_rate=0.1, units=196; total time=   0.0s\n",
      "[CV] END batch_size=32, dropout=0.2, epochs=1, learning_rate=0.1, units=196; total time=   0.0s\n",
      "[CV] END batch_size=32, dropout=0.3, epochs=1, learning_rate=0.001, units=64; total time=   0.0s\n",
      "[CV] END batch_size=32, dropout=0.3, epochs=1, learning_rate=0.001, units=64; total time=   0.0s\n",
      "[CV] END batch_size=32, dropout=0.3, epochs=1, learning_rate=0.001, units=64; total time=   0.0s\n",
      "[CV] END batch_size=32, dropout=0.3, epochs=1, learning_rate=0.001, units=128; total time=   0.0s\n",
      "[CV] END batch_size=32, dropout=0.3, epochs=1, learning_rate=0.001, units=128; total time=   0.0s\n",
      "[CV] END batch_size=32, dropout=0.3, epochs=1, learning_rate=0.001, units=128; total time=   0.0s\n",
      "[CV] END batch_size=32, dropout=0.3, epochs=1, learning_rate=0.001, units=196; total time=   0.0s\n",
      "[CV] END batch_size=32, dropout=0.3, epochs=1, learning_rate=0.001, units=196; total time=   0.0s\n",
      "[CV] END batch_size=32, dropout=0.3, epochs=1, learning_rate=0.001, units=196; total time=   0.0s\n",
      "[CV] END batch_size=32, dropout=0.3, epochs=1, learning_rate=0.01, units=64; total time=   0.0s\n",
      "[CV] END batch_size=32, dropout=0.3, epochs=1, learning_rate=0.01, units=64; total time=   0.0s\n",
      "[CV] END batch_size=32, dropout=0.3, epochs=1, learning_rate=0.01, units=64; total time=   0.0s\n",
      "[CV] END batch_size=32, dropout=0.3, epochs=1, learning_rate=0.01, units=128; total time=   0.0s\n",
      "[CV] END batch_size=32, dropout=0.3, epochs=1, learning_rate=0.01, units=128; total time=   0.0s\n",
      "[CV] END batch_size=32, dropout=0.3, epochs=1, learning_rate=0.01, units=128; total time=   0.0s\n",
      "[CV] END batch_size=32, dropout=0.3, epochs=1, learning_rate=0.01, units=196; total time=   0.0s\n",
      "[CV] END batch_size=32, dropout=0.3, epochs=1, learning_rate=0.01, units=196; total time=   0.0s\n",
      "[CV] END batch_size=32, dropout=0.3, epochs=1, learning_rate=0.01, units=196; total time=   0.0s\n",
      "[CV] END batch_size=32, dropout=0.3, epochs=1, learning_rate=0.1, units=64; total time=   0.0s\n",
      "[CV] END batch_size=32, dropout=0.3, epochs=1, learning_rate=0.1, units=64; total time=   0.0s\n",
      "[CV] END batch_size=32, dropout=0.3, epochs=1, learning_rate=0.1, units=64; total time=   0.0s\n",
      "[CV] END batch_size=32, dropout=0.3, epochs=1, learning_rate=0.1, units=128; total time=   0.0s\n",
      "[CV] END batch_size=32, dropout=0.3, epochs=1, learning_rate=0.1, units=128; total time=   0.0s\n",
      "[CV] END batch_size=32, dropout=0.3, epochs=1, learning_rate=0.1, units=128; total time=   0.0s\n",
      "[CV] END batch_size=32, dropout=0.3, epochs=1, learning_rate=0.1, units=196; total time=   0.0s\n",
      "[CV] END batch_size=32, dropout=0.3, epochs=1, learning_rate=0.1, units=196; total time=   0.0s\n",
      "[CV] END batch_size=32, dropout=0.3, epochs=1, learning_rate=0.1, units=196; total time=   0.0s\n"
     ]
    },
    {
     "ename": "ValueError",
     "evalue": "ignored",
     "output_type": "error",
     "traceback": [
      "\u001b[0;31m---------------------------------------------------------------------------\u001b[0m",
      "\u001b[0;31mValueError\u001b[0m                                Traceback (most recent call last)",
      "\u001b[0;32m<ipython-input-34-6bec1cffbd5d>\u001b[0m in \u001b[0;36m<cell line: 24>\u001b[0;34m()\u001b[0m\n\u001b[1;32m     22\u001b[0m \u001b[0mparam_grid\u001b[0m \u001b[0;34m=\u001b[0m \u001b[0mdict\u001b[0m\u001b[0;34m(\u001b[0m\u001b[0munits\u001b[0m\u001b[0;34m=\u001b[0m\u001b[0munits\u001b[0m\u001b[0;34m,\u001b[0m \u001b[0mdropout\u001b[0m\u001b[0;34m=\u001b[0m\u001b[0mdropout\u001b[0m\u001b[0;34m,\u001b[0m \u001b[0mlearning_rate\u001b[0m\u001b[0;34m=\u001b[0m\u001b[0mlearning_rate\u001b[0m\u001b[0;34m,\u001b[0m \u001b[0mepochs\u001b[0m\u001b[0;34m=\u001b[0m\u001b[0mepochs\u001b[0m\u001b[0;34m,\u001b[0m \u001b[0mbatch_size\u001b[0m\u001b[0;34m=\u001b[0m\u001b[0mbatch_size\u001b[0m\u001b[0;34m)\u001b[0m\u001b[0;34m\u001b[0m\u001b[0;34m\u001b[0m\u001b[0m\n\u001b[1;32m     23\u001b[0m \u001b[0mgrid\u001b[0m \u001b[0;34m=\u001b[0m \u001b[0mGridSearchCV\u001b[0m\u001b[0;34m(\u001b[0m\u001b[0mestimator\u001b[0m\u001b[0;34m=\u001b[0m\u001b[0mmodel\u001b[0m\u001b[0;34m,\u001b[0m \u001b[0mparam_grid\u001b[0m\u001b[0;34m=\u001b[0m\u001b[0mparam_grid\u001b[0m\u001b[0;34m,\u001b[0m \u001b[0mcv\u001b[0m\u001b[0;34m=\u001b[0m\u001b[0;36m3\u001b[0m\u001b[0;34m,\u001b[0m \u001b[0mverbose\u001b[0m\u001b[0;34m=\u001b[0m\u001b[0;36m2\u001b[0m\u001b[0;34m)\u001b[0m\u001b[0;34m\u001b[0m\u001b[0;34m\u001b[0m\u001b[0m\n\u001b[0;32m---> 24\u001b[0;31m \u001b[0mgrid_result\u001b[0m \u001b[0;34m=\u001b[0m \u001b[0mgrid\u001b[0m\u001b[0;34m.\u001b[0m\u001b[0mfit\u001b[0m\u001b[0;34m(\u001b[0m\u001b[0mX_train\u001b[0m\u001b[0;34m,\u001b[0m \u001b[0mY_train\u001b[0m\u001b[0;34m)\u001b[0m\u001b[0;34m\u001b[0m\u001b[0;34m\u001b[0m\u001b[0m\n\u001b[0m\u001b[1;32m     25\u001b[0m \u001b[0;34m\u001b[0m\u001b[0m\n\u001b[1;32m     26\u001b[0m \u001b[0mprint\u001b[0m\u001b[0;34m(\u001b[0m\u001b[0;34m\"Best: %f using %s\"\u001b[0m \u001b[0;34m%\u001b[0m \u001b[0;34m(\u001b[0m\u001b[0mgrid_result\u001b[0m\u001b[0;34m.\u001b[0m\u001b[0mbest_score_\u001b[0m\u001b[0;34m,\u001b[0m \u001b[0mgrid_result\u001b[0m\u001b[0;34m.\u001b[0m\u001b[0mbest_params_\u001b[0m\u001b[0;34m)\u001b[0m\u001b[0;34m)\u001b[0m\u001b[0;34m\u001b[0m\u001b[0;34m\u001b[0m\u001b[0m\n",
      "\u001b[0;32m/usr/local/lib/python3.10/dist-packages/sklearn/model_selection/_search.py\u001b[0m in \u001b[0;36mfit\u001b[0;34m(self, X, y, groups, **fit_params)\u001b[0m\n\u001b[1;32m    872\u001b[0m                 \u001b[0;32mreturn\u001b[0m \u001b[0mresults\u001b[0m\u001b[0;34m\u001b[0m\u001b[0;34m\u001b[0m\u001b[0m\n\u001b[1;32m    873\u001b[0m \u001b[0;34m\u001b[0m\u001b[0m\n\u001b[0;32m--> 874\u001b[0;31m             \u001b[0mself\u001b[0m\u001b[0;34m.\u001b[0m\u001b[0m_run_search\u001b[0m\u001b[0;34m(\u001b[0m\u001b[0mevaluate_candidates\u001b[0m\u001b[0;34m)\u001b[0m\u001b[0;34m\u001b[0m\u001b[0;34m\u001b[0m\u001b[0m\n\u001b[0m\u001b[1;32m    875\u001b[0m \u001b[0;34m\u001b[0m\u001b[0m\n\u001b[1;32m    876\u001b[0m             \u001b[0;31m# multimetric is determined here because in the case of a callable\u001b[0m\u001b[0;34m\u001b[0m\u001b[0;34m\u001b[0m\u001b[0m\n",
      "\u001b[0;32m/usr/local/lib/python3.10/dist-packages/sklearn/model_selection/_search.py\u001b[0m in \u001b[0;36m_run_search\u001b[0;34m(self, evaluate_candidates)\u001b[0m\n\u001b[1;32m   1386\u001b[0m     \u001b[0;32mdef\u001b[0m \u001b[0m_run_search\u001b[0m\u001b[0;34m(\u001b[0m\u001b[0mself\u001b[0m\u001b[0;34m,\u001b[0m \u001b[0mevaluate_candidates\u001b[0m\u001b[0;34m)\u001b[0m\u001b[0;34m:\u001b[0m\u001b[0;34m\u001b[0m\u001b[0;34m\u001b[0m\u001b[0m\n\u001b[1;32m   1387\u001b[0m         \u001b[0;34m\"\"\"Search all candidates in param_grid\"\"\"\u001b[0m\u001b[0;34m\u001b[0m\u001b[0;34m\u001b[0m\u001b[0m\n\u001b[0;32m-> 1388\u001b[0;31m         \u001b[0mevaluate_candidates\u001b[0m\u001b[0;34m(\u001b[0m\u001b[0mParameterGrid\u001b[0m\u001b[0;34m(\u001b[0m\u001b[0mself\u001b[0m\u001b[0;34m.\u001b[0m\u001b[0mparam_grid\u001b[0m\u001b[0;34m)\u001b[0m\u001b[0;34m)\u001b[0m\u001b[0;34m\u001b[0m\u001b[0;34m\u001b[0m\u001b[0m\n\u001b[0m\u001b[1;32m   1389\u001b[0m \u001b[0;34m\u001b[0m\u001b[0m\n\u001b[1;32m   1390\u001b[0m \u001b[0;34m\u001b[0m\u001b[0m\n",
      "\u001b[0;32m/usr/local/lib/python3.10/dist-packages/sklearn/model_selection/_search.py\u001b[0m in \u001b[0;36mevaluate_candidates\u001b[0;34m(candidate_params, cv, more_results)\u001b[0m\n\u001b[1;32m    849\u001b[0m                     )\n\u001b[1;32m    850\u001b[0m \u001b[0;34m\u001b[0m\u001b[0m\n\u001b[0;32m--> 851\u001b[0;31m                 \u001b[0m_warn_or_raise_about_fit_failures\u001b[0m\u001b[0;34m(\u001b[0m\u001b[0mout\u001b[0m\u001b[0;34m,\u001b[0m \u001b[0mself\u001b[0m\u001b[0;34m.\u001b[0m\u001b[0merror_score\u001b[0m\u001b[0;34m)\u001b[0m\u001b[0;34m\u001b[0m\u001b[0;34m\u001b[0m\u001b[0m\n\u001b[0m\u001b[1;32m    852\u001b[0m \u001b[0;34m\u001b[0m\u001b[0m\n\u001b[1;32m    853\u001b[0m                 \u001b[0;31m# For callable self.scoring, the return type is only know after\u001b[0m\u001b[0;34m\u001b[0m\u001b[0;34m\u001b[0m\u001b[0m\n",
      "\u001b[0;32m/usr/local/lib/python3.10/dist-packages/sklearn/model_selection/_validation.py\u001b[0m in \u001b[0;36m_warn_or_raise_about_fit_failures\u001b[0;34m(results, error_score)\u001b[0m\n\u001b[1;32m    365\u001b[0m                 \u001b[0;34mf\"Below are more details about the failures:\\n{fit_errors_summary}\"\u001b[0m\u001b[0;34m\u001b[0m\u001b[0;34m\u001b[0m\u001b[0m\n\u001b[1;32m    366\u001b[0m             )\n\u001b[0;32m--> 367\u001b[0;31m             \u001b[0;32mraise\u001b[0m \u001b[0mValueError\u001b[0m\u001b[0;34m(\u001b[0m\u001b[0mall_fits_failed_message\u001b[0m\u001b[0;34m)\u001b[0m\u001b[0;34m\u001b[0m\u001b[0;34m\u001b[0m\u001b[0m\n\u001b[0m\u001b[1;32m    368\u001b[0m \u001b[0;34m\u001b[0m\u001b[0m\n\u001b[1;32m    369\u001b[0m         \u001b[0;32melse\u001b[0m\u001b[0;34m:\u001b[0m\u001b[0;34m\u001b[0m\u001b[0;34m\u001b[0m\u001b[0m\n",
      "\u001b[0;31mValueError\u001b[0m: \nAll the 81 fits failed.\nIt is very likely that your model is misconfigured.\nYou can try to debug the error by setting error_score='raise'.\n\nBelow are more details about the failures:\n--------------------------------------------------------------------------------\n54 fits failed with the following error:\nTraceback (most recent call last):\n  File \"/usr/local/lib/python3.10/dist-packages/sklearn/model_selection/_validation.py\", line 686, in _fit_and_score\n    estimator.fit(X_train, y_train, **fit_params)\n  File \"/usr/local/lib/python3.10/dist-packages/keras/wrappers/scikit_learn.py\", line 246, in fit\n    raise ValueError(\"Invalid shape for y: \" + str(y.shape))\nValueError: Invalid shape for y: (6195, 3, 2)\n\n--------------------------------------------------------------------------------\n27 fits failed with the following error:\nTraceback (most recent call last):\n  File \"/usr/local/lib/python3.10/dist-packages/sklearn/model_selection/_validation.py\", line 686, in _fit_and_score\n    estimator.fit(X_train, y_train, **fit_params)\n  File \"/usr/local/lib/python3.10/dist-packages/keras/wrappers/scikit_learn.py\", line 246, in fit\n    raise ValueError(\"Invalid shape for y: \" + str(y.shape))\nValueError: Invalid shape for y: (6196, 3, 2)\n"
     ]
    }
   ],
   "source": [
    "from keras.wrappers.scikit_learn import KerasClassifier\n",
    "from sklearn.model_selection import GridSearchCV\n",
    "from keras.optimizers import Adam\n",
    "\n",
    "def create_model(units=196, dropout=0.2, learning_rate=0.001):\n",
    "    model = Sequential()\n",
    "    model.add(Embedding(max_fatures, embed_dim,input_length = X.shape[1]))\n",
    "    model.add(LSTM(units, dropout=dropout, recurrent_dropout=dropout))\n",
    "    model.add(Dense(3, activation='softmax'))\n",
    "    optimizer = Adam(lr=learning_rate)\n",
    "    model.compile(loss='categorical_crossentropy', optimizer=optimizer, metrics=['accuracy'])\n",
    "    return model\n",
    "\n",
    "model = KerasClassifier(build_fn=create_model, verbose=2)\n",
    "\n",
    "units = [64, 128, 196]\n",
    "dropout = [0.1, 0.2, 0.3]\n",
    "learning_rate = [0.001, 0.01, 0.1]\n",
    "epochs = [1]\n",
    "batch_size = [32]\n",
    "\n",
    "param_grid = dict(units=units, dropout=dropout, learning_rate=learning_rate, epochs=epochs, batch_size=batch_size)\n",
    "grid = GridSearchCV(estimator=model, param_grid=param_grid, cv=3, verbose=2)\n",
    "grid_result = grid.fit(X_train, Y_train)\n",
    "\n",
    "print(\"Best: %f using %s\" % (grid_result.best_score_, grid_result.best_params_))\n"
   ]
  },
  {
   "cell_type": "code",
   "execution_count": 32,
   "metadata": {
    "colab": {
     "base_uri": "https://localhost:8080/",
     "height": 1000
    },
    "id": "m37C8Ts7UF6b",
    "outputId": "fddf790d-efa5-4a04-c17b-8a8b20d780ff"
   },
   "outputs": [
    {
     "name": "stderr",
     "output_type": "stream",
     "text": [
      "<ipython-input-32-18ec694b1922>:20: DeprecationWarning: KerasClassifier is deprecated, use Sci-Keras (https://github.com/adriangb/scikeras) instead. See https://www.adriangb.com/scikeras/stable/migration.html for help migrating.\n",
      "  model = KerasClassifier(build_fn=create_model, verbose=2)\n"
     ]
    },
    {
     "name": "stdout",
     "output_type": "stream",
     "text": [
      "Fitting 3 folds for each of 27 candidates, totalling 81 fits\n",
      "[CV] END batch_size=32, dropout=0.1, epochs=1, learning_rate=0.001, units=64; total time=   0.0s\n",
      "[CV] END batch_size=32, dropout=0.1, epochs=1, learning_rate=0.001, units=64; total time=   0.0s\n",
      "[CV] END batch_size=32, dropout=0.1, epochs=1, learning_rate=0.001, units=64; total time=   0.0s\n",
      "[CV] END batch_size=32, dropout=0.1, epochs=1, learning_rate=0.001, units=128; total time=   0.0s\n",
      "[CV] END batch_size=32, dropout=0.1, epochs=1, learning_rate=0.001, units=128; total time=   0.0s\n",
      "[CV] END batch_size=32, dropout=0.1, epochs=1, learning_rate=0.001, units=128; total time=   0.0s\n",
      "[CV] END batch_size=32, dropout=0.1, epochs=1, learning_rate=0.001, units=196; total time=   0.0s\n",
      "[CV] END batch_size=32, dropout=0.1, epochs=1, learning_rate=0.001, units=196; total time=   0.0s\n",
      "[CV] END batch_size=32, dropout=0.1, epochs=1, learning_rate=0.001, units=196; total time=   0.0s\n",
      "[CV] END batch_size=32, dropout=0.1, epochs=1, learning_rate=0.01, units=64; total time=   0.0s\n",
      "[CV] END batch_size=32, dropout=0.1, epochs=1, learning_rate=0.01, units=64; total time=   0.0s\n",
      "[CV] END batch_size=32, dropout=0.1, epochs=1, learning_rate=0.01, units=64; total time=   0.0s\n",
      "[CV] END batch_size=32, dropout=0.1, epochs=1, learning_rate=0.01, units=128; total time=   0.0s\n",
      "[CV] END batch_size=32, dropout=0.1, epochs=1, learning_rate=0.01, units=128; total time=   0.0s\n",
      "[CV] END batch_size=32, dropout=0.1, epochs=1, learning_rate=0.01, units=128; total time=   0.0s\n",
      "[CV] END batch_size=32, dropout=0.1, epochs=1, learning_rate=0.01, units=196; total time=   0.0s\n",
      "[CV] END batch_size=32, dropout=0.1, epochs=1, learning_rate=0.01, units=196; total time=   0.0s\n",
      "[CV] END batch_size=32, dropout=0.1, epochs=1, learning_rate=0.01, units=196; total time=   0.0s\n",
      "[CV] END batch_size=32, dropout=0.1, epochs=1, learning_rate=0.1, units=64; total time=   0.0s\n",
      "[CV] END batch_size=32, dropout=0.1, epochs=1, learning_rate=0.1, units=64; total time=   0.0s\n",
      "[CV] END batch_size=32, dropout=0.1, epochs=1, learning_rate=0.1, units=64; total time=   0.0s\n",
      "[CV] END batch_size=32, dropout=0.1, epochs=1, learning_rate=0.1, units=128; total time=   0.0s\n",
      "[CV] END batch_size=32, dropout=0.1, epochs=1, learning_rate=0.1, units=128; total time=   0.0s\n",
      "[CV] END batch_size=32, dropout=0.1, epochs=1, learning_rate=0.1, units=128; total time=   0.0s\n",
      "[CV] END batch_size=32, dropout=0.1, epochs=1, learning_rate=0.1, units=196; total time=   0.0s\n",
      "[CV] END batch_size=32, dropout=0.1, epochs=1, learning_rate=0.1, units=196; total time=   0.0s\n",
      "[CV] END batch_size=32, dropout=0.1, epochs=1, learning_rate=0.1, units=196; total time=   0.0s\n",
      "[CV] END batch_size=32, dropout=0.2, epochs=1, learning_rate=0.001, units=64; total time=   0.0s\n",
      "[CV] END batch_size=32, dropout=0.2, epochs=1, learning_rate=0.001, units=64; total time=   0.0s\n",
      "[CV] END batch_size=32, dropout=0.2, epochs=1, learning_rate=0.001, units=64; total time=   0.0s\n",
      "[CV] END batch_size=32, dropout=0.2, epochs=1, learning_rate=0.001, units=128; total time=   0.0s\n",
      "[CV] END batch_size=32, dropout=0.2, epochs=1, learning_rate=0.001, units=128; total time=   0.0s\n",
      "[CV] END batch_size=32, dropout=0.2, epochs=1, learning_rate=0.001, units=128; total time=   0.0s\n",
      "[CV] END batch_size=32, dropout=0.2, epochs=1, learning_rate=0.001, units=196; total time=   0.0s\n",
      "[CV] END batch_size=32, dropout=0.2, epochs=1, learning_rate=0.001, units=196; total time=   0.0s\n",
      "[CV] END batch_size=32, dropout=0.2, epochs=1, learning_rate=0.001, units=196; total time=   0.0s\n",
      "[CV] END batch_size=32, dropout=0.2, epochs=1, learning_rate=0.01, units=64; total time=   0.0s\n",
      "[CV] END batch_size=32, dropout=0.2, epochs=1, learning_rate=0.01, units=64; total time=   0.0s\n",
      "[CV] END batch_size=32, dropout=0.2, epochs=1, learning_rate=0.01, units=64; total time=   0.0s\n",
      "[CV] END batch_size=32, dropout=0.2, epochs=1, learning_rate=0.01, units=128; total time=   0.0s\n",
      "[CV] END batch_size=32, dropout=0.2, epochs=1, learning_rate=0.01, units=128; total time=   0.0s\n",
      "[CV] END batch_size=32, dropout=0.2, epochs=1, learning_rate=0.01, units=128; total time=   0.0s\n",
      "[CV] END batch_size=32, dropout=0.2, epochs=1, learning_rate=0.01, units=196; total time=   0.0s\n",
      "[CV] END batch_size=32, dropout=0.2, epochs=1, learning_rate=0.01, units=196; total time=   0.0s\n",
      "[CV] END batch_size=32, dropout=0.2, epochs=1, learning_rate=0.01, units=196; total time=   0.0s\n",
      "[CV] END batch_size=32, dropout=0.2, epochs=1, learning_rate=0.1, units=64; total time=   0.0s\n",
      "[CV] END batch_size=32, dropout=0.2, epochs=1, learning_rate=0.1, units=64; total time=   0.0s\n",
      "[CV] END batch_size=32, dropout=0.2, epochs=1, learning_rate=0.1, units=64; total time=   0.0s\n",
      "[CV] END batch_size=32, dropout=0.2, epochs=1, learning_rate=0.1, units=128; total time=   0.0s\n",
      "[CV] END batch_size=32, dropout=0.2, epochs=1, learning_rate=0.1, units=128; total time=   0.0s\n",
      "[CV] END batch_size=32, dropout=0.2, epochs=1, learning_rate=0.1, units=128; total time=   0.0s\n",
      "[CV] END batch_size=32, dropout=0.2, epochs=1, learning_rate=0.1, units=196; total time=   0.0s\n",
      "[CV] END batch_size=32, dropout=0.2, epochs=1, learning_rate=0.1, units=196; total time=   0.0s\n",
      "[CV] END batch_size=32, dropout=0.2, epochs=1, learning_rate=0.1, units=196; total time=   0.0s\n",
      "[CV] END batch_size=32, dropout=0.3, epochs=1, learning_rate=0.001, units=64; total time=   0.0s\n",
      "[CV] END batch_size=32, dropout=0.3, epochs=1, learning_rate=0.001, units=64; total time=   0.0s\n",
      "[CV] END batch_size=32, dropout=0.3, epochs=1, learning_rate=0.001, units=64; total time=   0.0s\n",
      "[CV] END batch_size=32, dropout=0.3, epochs=1, learning_rate=0.001, units=128; total time=   0.0s\n",
      "[CV] END batch_size=32, dropout=0.3, epochs=1, learning_rate=0.001, units=128; total time=   0.0s\n",
      "[CV] END batch_size=32, dropout=0.3, epochs=1, learning_rate=0.001, units=128; total time=   0.0s\n",
      "[CV] END batch_size=32, dropout=0.3, epochs=1, learning_rate=0.001, units=196; total time=   0.0s\n",
      "[CV] END batch_size=32, dropout=0.3, epochs=1, learning_rate=0.001, units=196; total time=   0.0s\n",
      "[CV] END batch_size=32, dropout=0.3, epochs=1, learning_rate=0.001, units=196; total time=   0.0s\n",
      "[CV] END batch_size=32, dropout=0.3, epochs=1, learning_rate=0.01, units=64; total time=   0.0s\n",
      "[CV] END batch_size=32, dropout=0.3, epochs=1, learning_rate=0.01, units=64; total time=   0.0s\n",
      "[CV] END batch_size=32, dropout=0.3, epochs=1, learning_rate=0.01, units=64; total time=   0.0s\n",
      "[CV] END batch_size=32, dropout=0.3, epochs=1, learning_rate=0.01, units=128; total time=   0.0s\n",
      "[CV] END batch_size=32, dropout=0.3, epochs=1, learning_rate=0.01, units=128; total time=   0.0s\n",
      "[CV] END batch_size=32, dropout=0.3, epochs=1, learning_rate=0.01, units=128; total time=   0.0s\n",
      "[CV] END batch_size=32, dropout=0.3, epochs=1, learning_rate=0.01, units=196; total time=   0.0s\n",
      "[CV] END batch_size=32, dropout=0.3, epochs=1, learning_rate=0.01, units=196; total time=   0.0s\n",
      "[CV] END batch_size=32, dropout=0.3, epochs=1, learning_rate=0.01, units=196; total time=   0.0s\n",
      "[CV] END batch_size=32, dropout=0.3, epochs=1, learning_rate=0.1, units=64; total time=   0.0s\n",
      "[CV] END batch_size=32, dropout=0.3, epochs=1, learning_rate=0.1, units=64; total time=   0.0s\n",
      "[CV] END batch_size=32, dropout=0.3, epochs=1, learning_rate=0.1, units=64; total time=   0.0s\n",
      "[CV] END batch_size=32, dropout=0.3, epochs=1, learning_rate=0.1, units=128; total time=   0.0s\n",
      "[CV] END batch_size=32, dropout=0.3, epochs=1, learning_rate=0.1, units=128; total time=   0.0s\n",
      "[CV] END batch_size=32, dropout=0.3, epochs=1, learning_rate=0.1, units=128; total time=   0.0s\n",
      "[CV] END batch_size=32, dropout=0.3, epochs=1, learning_rate=0.1, units=196; total time=   0.0s\n",
      "[CV] END batch_size=32, dropout=0.3, epochs=1, learning_rate=0.1, units=196; total time=   0.0s\n",
      "[CV] END batch_size=32, dropout=0.3, epochs=1, learning_rate=0.1, units=196; total time=   0.0s\n"
     ]
    },
    {
     "ename": "ValueError",
     "evalue": "ignored",
     "output_type": "error",
     "traceback": [
      "\u001b[0;31m---------------------------------------------------------------------------\u001b[0m",
      "\u001b[0;31mValueError\u001b[0m                                Traceback (most recent call last)",
      "\u001b[0;32m<ipython-input-32-18ec694b1922>\u001b[0m in \u001b[0;36m<cell line: 30>\u001b[0;34m()\u001b[0m\n\u001b[1;32m     28\u001b[0m \u001b[0mparam_grid\u001b[0m \u001b[0;34m=\u001b[0m \u001b[0mdict\u001b[0m\u001b[0;34m(\u001b[0m\u001b[0munits\u001b[0m\u001b[0;34m=\u001b[0m\u001b[0munits\u001b[0m\u001b[0;34m,\u001b[0m \u001b[0mdropout\u001b[0m\u001b[0;34m=\u001b[0m\u001b[0mdropout\u001b[0m\u001b[0;34m,\u001b[0m \u001b[0mlearning_rate\u001b[0m\u001b[0;34m=\u001b[0m\u001b[0mlearning_rate\u001b[0m\u001b[0;34m,\u001b[0m \u001b[0mepochs\u001b[0m\u001b[0;34m=\u001b[0m\u001b[0mepochs\u001b[0m\u001b[0;34m,\u001b[0m \u001b[0mbatch_size\u001b[0m\u001b[0;34m=\u001b[0m\u001b[0mbatch_size\u001b[0m\u001b[0;34m)\u001b[0m\u001b[0;34m\u001b[0m\u001b[0;34m\u001b[0m\u001b[0m\n\u001b[1;32m     29\u001b[0m \u001b[0mgrid\u001b[0m \u001b[0;34m=\u001b[0m \u001b[0mGridSearchCV\u001b[0m\u001b[0;34m(\u001b[0m\u001b[0mestimator\u001b[0m\u001b[0;34m=\u001b[0m\u001b[0mmodel\u001b[0m\u001b[0;34m,\u001b[0m \u001b[0mparam_grid\u001b[0m\u001b[0;34m=\u001b[0m\u001b[0mparam_grid\u001b[0m\u001b[0;34m,\u001b[0m \u001b[0mcv\u001b[0m\u001b[0;34m=\u001b[0m\u001b[0;36m3\u001b[0m\u001b[0;34m,\u001b[0m \u001b[0mverbose\u001b[0m\u001b[0;34m=\u001b[0m\u001b[0;36m2\u001b[0m\u001b[0;34m)\u001b[0m\u001b[0;34m\u001b[0m\u001b[0;34m\u001b[0m\u001b[0m\n\u001b[0;32m---> 30\u001b[0;31m \u001b[0mgrid_result\u001b[0m \u001b[0;34m=\u001b[0m \u001b[0mgrid\u001b[0m\u001b[0;34m.\u001b[0m\u001b[0mfit\u001b[0m\u001b[0;34m(\u001b[0m\u001b[0mX_train\u001b[0m\u001b[0;34m,\u001b[0m \u001b[0mY_train_encoded\u001b[0m\u001b[0;34m)\u001b[0m\u001b[0;34m\u001b[0m\u001b[0;34m\u001b[0m\u001b[0m\n\u001b[0m\u001b[1;32m     31\u001b[0m \u001b[0;34m\u001b[0m\u001b[0m\n\u001b[1;32m     32\u001b[0m \u001b[0mprint\u001b[0m\u001b[0;34m(\u001b[0m\u001b[0;34m\"Best: %f using %s\"\u001b[0m \u001b[0;34m%\u001b[0m \u001b[0;34m(\u001b[0m\u001b[0mgrid_result\u001b[0m\u001b[0;34m.\u001b[0m\u001b[0mbest_score_\u001b[0m\u001b[0;34m,\u001b[0m \u001b[0mgrid_result\u001b[0m\u001b[0;34m.\u001b[0m\u001b[0mbest_params_\u001b[0m\u001b[0;34m)\u001b[0m\u001b[0;34m)\u001b[0m\u001b[0;34m\u001b[0m\u001b[0;34m\u001b[0m\u001b[0m\n",
      "\u001b[0;32m/usr/local/lib/python3.10/dist-packages/sklearn/model_selection/_search.py\u001b[0m in \u001b[0;36mfit\u001b[0;34m(self, X, y, groups, **fit_params)\u001b[0m\n\u001b[1;32m    872\u001b[0m                 \u001b[0;32mreturn\u001b[0m \u001b[0mresults\u001b[0m\u001b[0;34m\u001b[0m\u001b[0;34m\u001b[0m\u001b[0m\n\u001b[1;32m    873\u001b[0m \u001b[0;34m\u001b[0m\u001b[0m\n\u001b[0;32m--> 874\u001b[0;31m             \u001b[0mself\u001b[0m\u001b[0;34m.\u001b[0m\u001b[0m_run_search\u001b[0m\u001b[0;34m(\u001b[0m\u001b[0mevaluate_candidates\u001b[0m\u001b[0;34m)\u001b[0m\u001b[0;34m\u001b[0m\u001b[0;34m\u001b[0m\u001b[0m\n\u001b[0m\u001b[1;32m    875\u001b[0m \u001b[0;34m\u001b[0m\u001b[0m\n\u001b[1;32m    876\u001b[0m             \u001b[0;31m# multimetric is determined here because in the case of a callable\u001b[0m\u001b[0;34m\u001b[0m\u001b[0;34m\u001b[0m\u001b[0m\n",
      "\u001b[0;32m/usr/local/lib/python3.10/dist-packages/sklearn/model_selection/_search.py\u001b[0m in \u001b[0;36m_run_search\u001b[0;34m(self, evaluate_candidates)\u001b[0m\n\u001b[1;32m   1386\u001b[0m     \u001b[0;32mdef\u001b[0m \u001b[0m_run_search\u001b[0m\u001b[0;34m(\u001b[0m\u001b[0mself\u001b[0m\u001b[0;34m,\u001b[0m \u001b[0mevaluate_candidates\u001b[0m\u001b[0;34m)\u001b[0m\u001b[0;34m:\u001b[0m\u001b[0;34m\u001b[0m\u001b[0;34m\u001b[0m\u001b[0m\n\u001b[1;32m   1387\u001b[0m         \u001b[0;34m\"\"\"Search all candidates in param_grid\"\"\"\u001b[0m\u001b[0;34m\u001b[0m\u001b[0;34m\u001b[0m\u001b[0m\n\u001b[0;32m-> 1388\u001b[0;31m         \u001b[0mevaluate_candidates\u001b[0m\u001b[0;34m(\u001b[0m\u001b[0mParameterGrid\u001b[0m\u001b[0;34m(\u001b[0m\u001b[0mself\u001b[0m\u001b[0;34m.\u001b[0m\u001b[0mparam_grid\u001b[0m\u001b[0;34m)\u001b[0m\u001b[0;34m)\u001b[0m\u001b[0;34m\u001b[0m\u001b[0;34m\u001b[0m\u001b[0m\n\u001b[0m\u001b[1;32m   1389\u001b[0m \u001b[0;34m\u001b[0m\u001b[0m\n\u001b[1;32m   1390\u001b[0m \u001b[0;34m\u001b[0m\u001b[0m\n",
      "\u001b[0;32m/usr/local/lib/python3.10/dist-packages/sklearn/model_selection/_search.py\u001b[0m in \u001b[0;36mevaluate_candidates\u001b[0;34m(candidate_params, cv, more_results)\u001b[0m\n\u001b[1;32m    849\u001b[0m                     )\n\u001b[1;32m    850\u001b[0m \u001b[0;34m\u001b[0m\u001b[0m\n\u001b[0;32m--> 851\u001b[0;31m                 \u001b[0m_warn_or_raise_about_fit_failures\u001b[0m\u001b[0;34m(\u001b[0m\u001b[0mout\u001b[0m\u001b[0;34m,\u001b[0m \u001b[0mself\u001b[0m\u001b[0;34m.\u001b[0m\u001b[0merror_score\u001b[0m\u001b[0;34m)\u001b[0m\u001b[0;34m\u001b[0m\u001b[0;34m\u001b[0m\u001b[0m\n\u001b[0m\u001b[1;32m    852\u001b[0m \u001b[0;34m\u001b[0m\u001b[0m\n\u001b[1;32m    853\u001b[0m                 \u001b[0;31m# For callable self.scoring, the return type is only know after\u001b[0m\u001b[0;34m\u001b[0m\u001b[0;34m\u001b[0m\u001b[0m\n",
      "\u001b[0;32m/usr/local/lib/python3.10/dist-packages/sklearn/model_selection/_validation.py\u001b[0m in \u001b[0;36m_warn_or_raise_about_fit_failures\u001b[0;34m(results, error_score)\u001b[0m\n\u001b[1;32m    365\u001b[0m                 \u001b[0;34mf\"Below are more details about the failures:\\n{fit_errors_summary}\"\u001b[0m\u001b[0;34m\u001b[0m\u001b[0;34m\u001b[0m\u001b[0m\n\u001b[1;32m    366\u001b[0m             )\n\u001b[0;32m--> 367\u001b[0;31m             \u001b[0;32mraise\u001b[0m \u001b[0mValueError\u001b[0m\u001b[0;34m(\u001b[0m\u001b[0mall_fits_failed_message\u001b[0m\u001b[0;34m)\u001b[0m\u001b[0;34m\u001b[0m\u001b[0;34m\u001b[0m\u001b[0m\n\u001b[0m\u001b[1;32m    368\u001b[0m \u001b[0;34m\u001b[0m\u001b[0m\n\u001b[1;32m    369\u001b[0m         \u001b[0;32melse\u001b[0m\u001b[0;34m:\u001b[0m\u001b[0;34m\u001b[0m\u001b[0;34m\u001b[0m\u001b[0m\n",
      "\u001b[0;31mValueError\u001b[0m: \nAll the 81 fits failed.\nIt is very likely that your model is misconfigured.\nYou can try to debug the error by setting error_score='raise'.\n\nBelow are more details about the failures:\n--------------------------------------------------------------------------------\n54 fits failed with the following error:\nTraceback (most recent call last):\n  File \"/usr/local/lib/python3.10/dist-packages/sklearn/model_selection/_validation.py\", line 686, in _fit_and_score\n    estimator.fit(X_train, y_train, **fit_params)\n  File \"/usr/local/lib/python3.10/dist-packages/keras/wrappers/scikit_learn.py\", line 246, in fit\n    raise ValueError(\"Invalid shape for y: \" + str(y.shape))\nValueError: Invalid shape for y: (6195, 3, 2, 2)\n\n--------------------------------------------------------------------------------\n27 fits failed with the following error:\nTraceback (most recent call last):\n  File \"/usr/local/lib/python3.10/dist-packages/sklearn/model_selection/_validation.py\", line 686, in _fit_and_score\n    estimator.fit(X_train, y_train, **fit_params)\n  File \"/usr/local/lib/python3.10/dist-packages/keras/wrappers/scikit_learn.py\", line 246, in fit\n    raise ValueError(\"Invalid shape for y: \" + str(y.shape))\nValueError: Invalid shape for y: (6196, 3, 2, 2)\n"
     ]
    }
   ],
   "source": [
    "from keras.wrappers.scikit_learn import KerasClassifier\n",
    "from sklearn.model_selection import GridSearchCV\n",
    "from keras.models import Sequential\n",
    "from keras.layers import Embedding, LSTM, Dense\n",
    "from keras.optimizers import Adam\n",
    "from keras.utils import to_categorical\n",
    "\n",
    "# Assuming Y_train is a 1D array of class labels\n",
    "Y_train_encoded = to_categorical(Y_train)\n",
    "\n",
    "def create_model(units=196, dropout=0.2, learning_rate=0.001):\n",
    "    model = Sequential()\n",
    "    model.add(Embedding(max_fatures, embed_dim, input_length=X.shape[1]))\n",
    "    model.add(LSTM(units, dropout=dropout, recurrent_dropout=dropout))\n",
    "    model.add(Dense(3, activation='softmax'))\n",
    "    optimizer = Adam(lr=learning_rate)\n",
    "    model.compile(loss='categorical_crossentropy', optimizer=optimizer, metrics=['accuracy'])\n",
    "    return model\n",
    "\n",
    "model = KerasClassifier(build_fn=create_model, verbose=2)\n",
    "\n",
    "units = [64, 128, 196]\n",
    "dropout = [0.1, 0.2, 0.3]\n",
    "learning_rate = [0.001, 0.01, 0.1]\n",
    "epochs = [1]  # Adjust the number of epochs as needed\n",
    "batch_size = [32]\n",
    "\n",
    "param_grid = dict(units=units, dropout=dropout, learning_rate=learning_rate, epochs=epochs, batch_size=batch_size)\n",
    "grid = GridSearchCV(estimator=model, param_grid=param_grid, cv=3, verbose=2)\n",
    "grid_result = grid.fit(X_train, Y_train_encoded)\n",
    "\n",
    "print(\"Best: %f using %s\" % (grid_result.best_score_, grid_result.best_params_))"
   ]
  }
 ],
 "metadata": {
  "colab": {
   "provenance": []
  },
  "kernelspec": {
   "display_name": "Python 3 (ipykernel)",
   "language": "python",
   "name": "python3"
  },
  "language_info": {
   "codemirror_mode": {
    "name": "ipython",
    "version": 3
   },
   "file_extension": ".py",
   "mimetype": "text/x-python",
   "name": "python",
   "nbconvert_exporter": "python",
   "pygments_lexer": "ipython3",
   "version": "3.11.5"
  }
 },
 "nbformat": 4,
 "nbformat_minor": 1
}
